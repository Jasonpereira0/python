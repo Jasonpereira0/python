{
 "cells": [
  {
   "cell_type": "markdown",
   "metadata": {},
   "source": [
    "# Assignment #1: Anagram Checker\n",
    "\n",
    "**Background**: Anagram Checker is a program that takes two words and determines if an anagram can be made from it. If so, the program will return `true`, otherwise `false`."
   ]
  },
  {
   "cell_type": "markdown",
   "metadata": {},
   "source": [
    "## Submission Information\n",
    "\n",
    "🚨 **Please review our [Assignment Submission Guide](https://github.com/UofT-DSI/onboarding/blob/main/onboarding_documents/submissions.md)** 🚨 for detailed instructions on how to format, branch, and submit your work. Following these guidelines is crucial for your submissions to be evaluated correctly.\n",
    "\n",
    "### Submission Parameters:\n",
    "* Submission Due Date: `11:59 PM - Dec 1, 2024`\n",
    "* The branch name for your repo should be: `assignment-1`\n",
    "* What to submit for this assignment:\n",
    "    * This Jupyter Notebook (assignment_1.ipynb) should be populated and should be the only change in your pull request.\n",
    "* What the pull request link should look like for this assignment: `https://github.com/<your_github_username>/python/pull/<pr_id>`\n",
    "    * Open a private window in your browser. Copy and paste the link to your pull request into the address bar. Make sure you can see your pull request properly. This helps the technical facilitator and learning support staff review your submission easily.\n",
    "\n",
    "Checklist:\n",
    "- [ X ] Created a branch with the correct naming convention.\n",
    "- [ X ] Ensured that the repository is public.\n",
    "- [ X ] Reviewed the PR description guidelines and adhered to them.\n",
    "- [ X ] Verify that the link is accessible in a private browser window.\n",
    "\n",
    "If you encounter any difficulties or have questions, please don't hesitate to reach out to our team via our Slack at `#cohort-5-help`. Our Technical Facilitators and Learning Support staff are here to help you navigate any challenges."
   ]
  },
  {
   "cell_type": "markdown",
   "metadata": {},
   "source": [
    "### Part 1: Building the base Anagram Checker\n",
    "\n",
    "Given two valid strings, check to see if they are anagrams of each other. If it is, return `True`, else `False`. For this part, we can assume that uppercase letters are the same as if it was a lowercase character.\n",
    "\n",
    "Examples of anagrams:\n",
    "* Silent and Listen\n",
    "* Night and Think\n",
    "\n",
    "Example outputs:\n",
    "```python\n",
    "anagram_checker(\"Silent\", \"listen\") # True\n",
    "anagram_checker(\"Silent\", \"Night\") # False\n",
    "anagram_checker(\"night\", \"Thing\") # True\n",
    "```"
   ]
  },
  {
   "cell_type": "code",
   "execution_count": 35,
   "metadata": {},
   "outputs": [
    {
     "data": {
      "text/plain": [
       "True"
      ]
     },
     "execution_count": 35,
     "metadata": {},
     "output_type": "execute_result"
    }
   ],
   "source": [
    "# Modified to remove redundant while loop\n",
    "\n",
    "# This is a function, which we will learn more about next week. For testing purposes, we will write our code in the function\n",
    "\n",
    "def anagram_checker(word_a, word_b):\n",
    "  # Your code here\n",
    "  if len(word_a) != len(word_b): # Compare the lengths of both words.\n",
    "    return False                 # If the lengths of both words are not equal then output False since they cannot be anagrams.\n",
    "  \n",
    "  char_count_a = {}              # Declare dictionary to count characters of word_a.\n",
    "  char_count_b = {}              # Declare dictionary to count characters of word_a.\n",
    "  for char in word_a.lower():    # Using for loop for each character in word_a lowercase letters.\n",
    "    char_count_a[char] = char_count_a.get(char, 0) + 1 # Using get fucntion to obtain the characters in word_a.\n",
    "  for char in word_b.lower():    # Using for loop again for each character in word_b lowercase letters.\n",
    "    char_count_b[char] = char_count_b.get(char, 0) + 1 # Using get fucntion again to obtain the characters in word_b.\n",
    "\n",
    "  if char_count_a == char_count_b: # Check if the lower case characters in word_a and word_b match to ensure recurring letters are considered.\n",
    "        return True                # If each letter of word_a is present in word_b then it is an anagram.\n",
    "  else: return False\n",
    "\n",
    "# Run your code to check using the words below:\n",
    "anagram_checker(\"Silent\", \"listen\") # Returns True since both strings have the same length and case in-sensitive characters."
   ]
  },
  {
   "cell_type": "code",
   "execution_count": 8,
   "metadata": {},
   "outputs": [
    {
     "data": {
      "text/plain": [
       "False"
      ]
     },
     "execution_count": 8,
     "metadata": {},
     "output_type": "execute_result"
    }
   ],
   "source": [
    "anagram_checker(\"Silent\", \"Night\") # Returns False since both strings don't have the same length."
   ]
  },
  {
   "cell_type": "code",
   "execution_count": 36,
   "metadata": {},
   "outputs": [
    {
     "data": {
      "text/plain": [
       "True"
      ]
     },
     "execution_count": 36,
     "metadata": {},
     "output_type": "execute_result"
    }
   ],
   "source": [
    "anagram_checker(\"night\", \"Thing\") # Returns True since both strings have the same length and case in-sensitive characters."
   ]
  },
  {
   "cell_type": "code",
   "execution_count": 10,
   "metadata": {},
   "outputs": [
    {
     "data": {
      "text/plain": [
       "True"
      ]
     },
     "execution_count": 10,
     "metadata": {},
     "output_type": "execute_result"
    }
   ],
   "source": [
    "anagram_checker(\"niggght\", \"Thinggg\") # Returns True since both strings have the same length and case in-sensitive characters, including duplicates."
   ]
  },
  {
   "cell_type": "markdown",
   "metadata": {},
   "source": [
    "## Part 1. Alternative method"
   ]
  },
  {
   "cell_type": "code",
   "execution_count": 11,
   "metadata": {},
   "outputs": [
    {
     "data": {
      "text/plain": [
       "True"
      ]
     },
     "execution_count": 11,
     "metadata": {},
     "output_type": "execute_result"
    }
   ],
   "source": [
    "# Alternative method for part 1\n",
    "# This is a function, which we will learn more about next week. For testing purposes, we will write our code in the function\n",
    "\n",
    "def anagram_checker2(word_a, word_b): # Defining anagram_checker2 function for alternative method #2.\n",
    "  # Your code here\n",
    "  if len(word_a) != len(word_b): # Compare the lengths of both words.\n",
    "    return False                 # If the lengths of both words are not equal then output False since they cannot be anagrams.\n",
    "  \n",
    "  if sorted(word_a.lower()) == sorted(word_b.lower()): # Check if sorted lowercase characters are the same for both word_a and word_b.\n",
    "    return word_a != word_b     # Returns the boolean TRUE if the lowercase characters in both strings are not equal.\n",
    "  return False\n",
    "\n",
    "# Run your code to check using the words below:\n",
    "anagram_checker2(\"Silent\", \"listen\") # Returns True since both strings have the same length and case in-sensitive characters."
   ]
  },
  {
   "cell_type": "code",
   "execution_count": 12,
   "metadata": {},
   "outputs": [
    {
     "data": {
      "text/plain": [
       "False"
      ]
     },
     "execution_count": 12,
     "metadata": {},
     "output_type": "execute_result"
    }
   ],
   "source": [
    "anagram_checker2(\"Silent\", \"Night\") # Returns False since both strings don't have the same length."
   ]
  },
  {
   "cell_type": "code",
   "execution_count": 37,
   "metadata": {},
   "outputs": [
    {
     "data": {
      "text/plain": [
       "True"
      ]
     },
     "execution_count": 37,
     "metadata": {},
     "output_type": "execute_result"
    }
   ],
   "source": [
    "anagram_checker2(\"night\", \"Thing\") # Returns True since both strings have the same length and case in-sensitive characters."
   ]
  },
  {
   "cell_type": "code",
   "execution_count": 14,
   "metadata": {},
   "outputs": [
    {
     "data": {
      "text/plain": [
       "True"
      ]
     },
     "execution_count": 14,
     "metadata": {},
     "output_type": "execute_result"
    }
   ],
   "source": [
    "anagram_checker2(\"niggght\", \"Thinggg\") # Returns True since both strings have the same length and case in-sensitive characters, including duplicates."
   ]
  },
  {
   "cell_type": "markdown",
   "metadata": {},
   "source": [
    "### Part 2: Expanding the functionality of the Anagram Checker\n",
    "\n",
    "Using your existing and functional anagram checker, let's add a boolean option called `is_case_sensitive`, which will return `True` or `False` based on if the two compared words are anagrams and if we are checking for case sensitivity."
   ]
  },
  {
   "cell_type": "code",
   "execution_count": 43,
   "metadata": {},
   "outputs": [
    {
     "data": {
      "text/plain": [
       "True"
      ]
     },
     "execution_count": 43,
     "metadata": {},
     "output_type": "execute_result"
    }
   ],
   "source": [
    "# Modified code to remove redundant loops\n",
    "\n",
    "def anagram_checker(word_a, word_b, is_case_sensitive):\n",
    "  # Modify your existing code here\n",
    "\n",
    "  if len(word_a) != len(word_b): # Compare the lengths of both words.\n",
    "    return False                 # If the lengths of both words are not equal then output False since they cannot be anagrams.\n",
    "  \n",
    "  if is_case_sensitive == False: # Check if is_case_sensitive bool is False.\n",
    "    if sorted(word_a.lower()) == sorted(word_b.lower()): # if function to sort and compare each lower case letter of word_a is present in word_b\n",
    "      return True                                         # then return True since both words are case in-sensitive anagrams\n",
    "  elif is_case_sensitive == True: # Check if is_case_sensitive bool is True\n",
    "    return sorted(word_a) == sorted(word_b) # Check if sorted case sensitive characters are the same for both word_a and word_b and output True if they are equal.\n",
    "  else: return False                        # if the case sensitive or case in-sensitive letters in both words are not the same then return False\n",
    "\n",
    "# Run your code to check using the words below:\n",
    "anagram_checker(\"Silent\", \"listen\", False) # True -> Returns True since both strings have the same length and and characters that are case in-sensitive."
   ]
  },
  {
   "cell_type": "code",
   "execution_count": 26,
   "metadata": {},
   "outputs": [
    {
     "data": {
      "text/plain": [
       "False"
      ]
     },
     "execution_count": 26,
     "metadata": {},
     "output_type": "execute_result"
    }
   ],
   "source": [
    "anagram_checker(\"Silent\", \"Listen\", True) # False -> Returns False since both strings have the same length and characters that are case in-sensitive."
   ]
  },
  {
   "cell_type": "code",
   "execution_count": 27,
   "metadata": {},
   "outputs": [
    {
     "data": {
      "text/plain": [
       "False"
      ]
     },
     "execution_count": 27,
     "metadata": {},
     "output_type": "execute_result"
    }
   ],
   "source": [
    "anagram_checker(\"SiLeNT\", \"LiStEn\", True) # False -> Returns False since both strings have the same length and characters that are both case sensitive."
   ]
  },
  {
   "cell_type": "code",
   "execution_count": 28,
   "metadata": {},
   "outputs": [
    {
     "data": {
      "text/plain": [
       "False"
      ]
     },
     "execution_count": 28,
     "metadata": {},
     "output_type": "execute_result"
    }
   ],
   "source": [
    "anagram_checker(\"SiLeNTsss\", \"LiStEnsss\", True) # False -> Returns False since both strings have the same length and characters that are case sensitive including duplicate characters."
   ]
  },
  {
   "cell_type": "code",
   "execution_count": 29,
   "metadata": {},
   "outputs": [
    {
     "data": {
      "text/plain": [
       "True"
      ]
     },
     "execution_count": 29,
     "metadata": {},
     "output_type": "execute_result"
    }
   ],
   "source": [
    "anagram_checker(\"SiLeNTsss\", \"LiStEnsss\", False) # True -> Returns True since both strings have the same length and characters that are both case in-sensitive including duplicate characters."
   ]
  },
  {
   "cell_type": "code",
   "execution_count": 30,
   "metadata": {},
   "outputs": [
    {
     "data": {
      "text/plain": [
       "True"
      ]
     },
     "execution_count": 30,
     "metadata": {},
     "output_type": "execute_result"
    }
   ],
   "source": [
    "anagram_checker(\"silent\", \"listen\", True) # True -> Returns True since both strings have the same length and are case sensitive."
   ]
  },
  {
   "cell_type": "code",
   "execution_count": 41,
   "metadata": {},
   "outputs": [
    {
     "data": {
      "text/plain": [
       "False"
      ]
     },
     "execution_count": 41,
     "metadata": {},
     "output_type": "execute_result"
    }
   ],
   "source": [
    "anagram_checker(\"night\", \"Thing\", True) # Returns False since both strings have the same length but not case sensitive characters."
   ]
  },
  {
   "cell_type": "code",
   "execution_count": 42,
   "metadata": {},
   "outputs": [
    {
     "data": {
      "text/plain": [
       "True"
      ]
     },
     "execution_count": 42,
     "metadata": {},
     "output_type": "execute_result"
    }
   ],
   "source": [
    "anagram_checker(\"nighT\", \"Thing\", True) # Returns True since both strings have the same length and case sensitive characters."
   ]
  },
  {
   "cell_type": "markdown",
   "metadata": {},
   "source": [
    "|Criteria|Pass|Fail|\n",
    "|---|---|---|\n",
    "|Code Execution|All code cells execute without errors.|Any code cell produces an error upon execution.|\n",
    "|Code Quality|Code is well-organized, concise, and includes necessary comments for clarity. E.g. Great use of variable names.|Code is unorganized, verbose, or lacks necessary comments. E.g. Single character variable names outside of loops.|"
   ]
  }
 ],
 "metadata": {
  "kernelspec": {
   "display_name": "dsi_participant",
   "language": "python",
   "name": "python3"
  },
  "language_info": {
   "codemirror_mode": {
    "name": "ipython",
    "version": 3
   },
   "file_extension": ".py",
   "mimetype": "text/x-python",
   "name": "python",
   "nbconvert_exporter": "python",
   "pygments_lexer": "ipython3",
   "version": "3.9.15"
  }
 },
 "nbformat": 4,
 "nbformat_minor": 2
}
